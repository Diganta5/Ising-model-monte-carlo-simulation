{
 "cells": [
  {
   "cell_type": "code",
   "execution_count": 1,
   "metadata": {},
   "outputs": [],
   "source": [
    "import numpy as np\n",
    "import matplotlib.pyplot as plt\n",
    "import matplotlib.animation as animation\n",
    "import time"
   ]
  },
  {
   "cell_type": "code",
   "execution_count": 56,
   "metadata": {},
   "outputs": [],
   "source": [
    "x=open('ising_mat.npy','rb')\n",
    "a=np.load(x)\n",
    "    #del(a)\n"
   ]
  },
  {
   "cell_type": "code",
   "execution_count": 59,
   "metadata": {},
   "outputs": [
    {
     "name": "stderr",
     "output_type": "stream",
     "text": [
      "100%|██████████| 12926/12926 [00:06<00:00, 2101.21it/s]\n"
     ]
    }
   ],
   "source": [
    "from tqdm import tqdm\n",
    "fig,ax=plt.subplots()\n",
    "ims=[]\n",
    "N=len(a)\n",
    "#print(N)\n",
    "for i in tqdm(range(N)):\n",
    "    im=ax.imshow(a[i],animated=True)\n",
    "    if i==0:\n",
    "        ax.imshow(a[0])\n",
    "    ims.append([im])\n",
    "\n",
    "ani = animation.ArtistAnimation(fig,ims,interval=20,blit=True,repeat=False)\n",
    "#writervideo = animation.FFMpegFileWriter(fps=60)\n",
    "writervideo = animation.FFMpegWriter(fps=60)\n",
    "ani.save('ising_simulation.mp4', writer=writervideo)\n",
    "#plt.close()\n",
    "#plt.show()\n",
    "plt.close()"
   ]
  }
 ],
 "metadata": {
  "kernelspec": {
   "display_name": "Python 3.9.12 ('base')",
   "language": "python",
   "name": "python3"
  },
  "language_info": {
   "codemirror_mode": {
    "name": "ipython",
    "version": 3
   },
   "file_extension": ".py",
   "mimetype": "text/x-python",
   "name": "python",
   "nbconvert_exporter": "python",
   "pygments_lexer": "ipython3",
   "version": "3.9.12"
  },
  "orig_nbformat": 4,
  "vscode": {
   "interpreter": {
    "hash": "914476e6b7859447838e20e9611256662f9b95f3ad35605e4a12386d33547bae"
   }
  }
 },
 "nbformat": 4,
 "nbformat_minor": 2
}
