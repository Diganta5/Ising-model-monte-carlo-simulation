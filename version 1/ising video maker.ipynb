{
 "cells": [
  {
   "cell_type": "code",
   "execution_count": 3,
   "metadata": {},
   "outputs": [],
   "source": [
    "import numpy as np\n",
    "import matplotlib.pyplot as plt\n",
    "import matplotlib.animation as animation\n",
    "from tqdm import tqdm\n",
    "import time"
   ]
  },
  {
   "cell_type": "code",
   "execution_count": 4,
   "metadata": {},
   "outputs": [],
   "source": [
    "x=open('ising_mat.npy','rb')\n",
    "a=np.load(x)\n",
    "    #del(a)\n"
   ]
  },
  {
   "cell_type": "code",
   "execution_count": 59,
   "metadata": {},
   "outputs": [
    {
     "name": "stderr",
     "output_type": "stream",
     "text": [
      "100%|██████████| 12926/12926 [00:06<00:00, 2101.21it/s]\n"
     ]
    }
   ],
   "source": [
    "from tqdm import tqdm\n",
    "fig,ax=plt.subplots()\n",
    "ims=[]\n",
    "N=len(a)\n",
    "#print(N)\n",
    "for i in tqdm(range(N)):\n",
    "    im=ax.imshow(a[i],animated=True)\n",
    "    if i==0:\n",
    "        ax.imshow(a[0])\n",
    "    ims.append([im])\n",
    "\n",
    "ani = animation.ArtistAnimation(fig,ims,interval=20,blit=True,repeat=False)\n",
    "#writervideo = animation.FFMpegFileWriter(fps=60)\n",
    "writervideo = animation.FFMpegWriter(fps=60)\n",
    "ani.save('ising_simulation.mp4', writer=writervideo)\n",
    "#plt.close()\n",
    "#plt.show()\n",
    "plt.close()"
   ]
  },
  {
   "cell_type": "code",
   "execution_count": 9,
   "metadata": {},
   "outputs": [],
   "source": [
    "J= 1\n",
    "def ham(mat):\n",
    "    N=mat.shape[0]\n",
    "    H = np.zeros([N,N])\n",
    "    for i in range(1,N-1):\n",
    "        H[0][i]=-J*mat[0][i]*(mat[1][i]+mat[0][i-1]+mat[0][i+1])\n",
    "        H[i][0]=-J*mat[i][0]*(mat[i][1]+mat[i-1][0]+mat[i+1][0])\n",
    "        H[N-1][i]=-J*mat[N-1][i]*(mat[N-2][i]+mat[N-1][i-1]+mat[N-1][i+1])\n",
    "        H[i][N-1]=-J*mat[i][N-1]*(mat[i][N-2]+mat[i-1][N-1]+mat[i+1][N-1])\n",
    "        for j in range(1,N-1):\n",
    "            H[i][j]=-J*mat[i][j]*(mat[i-1][j]+mat[i][j-1]+mat[i+1][j]+mat[i][j+1])\n",
    "\n",
    "    H[0][0]=-J*mat[0][0]*(mat[0][1]+mat[1][0])\n",
    "    H[0][N-1]=-J*mat[0][N-1]*(mat[1][N-1]+mat[0][N-2])\n",
    "    H[N-1][0]=-J*mat[N-1][0]*(mat[N-2][0]+mat[N-1][1])\n",
    "    H[N-1][N-1]=-J*mat[N-1][N-1]*(mat[N-1][N-2]+mat[N-2][N-1])\n",
    "\n",
    "    h_sum = np.sum(H)\n",
    "    return h_sum\n",
    "magnet_l = []\n",
    "ener_l = []\n",
    "for i in a:\n",
    "    mag= np.sum(i)\n",
    "    en = ham(i)\n",
    "    magnet_l.append(mag)\n",
    "    ener_l.append(en)"
   ]
  },
  {
   "cell_type": "code",
   "execution_count": 6,
   "metadata": {},
   "outputs": [
    {
     "data": {
      "text/plain": [
       "[<matplotlib.lines.Line2D at 0x7f896c270dc0>]"
      ]
     },
     "execution_count": 6,
     "metadata": {},
     "output_type": "execute_result"
    },
    {
     "data": {
      "image/png": "[encoded data removed]",
      "text/plain": [
       "<Figure size 432x288 with 1 Axes>"
      ]
     },
     "metadata": {
      "needs_background": "light"
     },
     "output_type": "display_data"
    }
   ],
   "source": [
    "plt.plot(magnet_l)\n"
   ]
  },
  {
   "cell_type": "code",
   "execution_count": 10,
   "metadata": {},
   "outputs": [
    {
     "data": {
      "text/plain": [
       "[<matplotlib.lines.Line2D at 0x7f895bdee0a0>]"
      ]
     },
     "execution_count": 10,
     "metadata": {},
     "output_type": "execute_result"
    },
    {
     "data": {
      "image/png": "[encoded data removed]",
      "text/plain": [
       "<Figure size 432x288 with 1 Axes>"
      ]
     },
     "metadata": {
      "needs_background": "light"
     },
     "output_type": "display_data"
    }
   ],
   "source": [
    "plt.plot(ener_l)"
   ]
  }
 ],
 "metadata": {
  "kernelspec": {
   "display_name": "Python 3.9.12 ('base')",
   "language": "python",
   "name": "python3"
  },
  "language_info": {
   "codemirror_mode": {
    "name": "ipython",
    "version": 3
   },
   "file_extension": ".py",
   "mimetype": "text/x-python",
   "name": "python",
   "nbconvert_exporter": "python",
   "pygments_lexer": "ipython3",
   "version": "3.9.12"
  },
  "orig_nbformat": 4,
  "vscode": {
   "interpreter": {
    "hash": "914476e6b7859447838e20e9611256662f9b95f3ad35605e4a12386d33547bae"
   }
  }
 },
 "nbformat": 4,
 "nbformat_minor": 2
}
